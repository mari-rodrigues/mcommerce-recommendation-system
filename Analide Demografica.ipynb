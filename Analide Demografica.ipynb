{
 "cells": [
  {
   "cell_type": "code",
   "execution_count": 1,
   "id": "297574ac",
   "metadata": {},
   "outputs": [],
   "source": [
    "import pandas as pd\n",
    "import seaborn as sns\n",
    "import matplotlib.pyplot as plt"
   ]
  },
  {
   "cell_type": "code",
   "execution_count": 2,
   "id": "13767d46",
   "metadata": {},
   "outputs": [],
   "source": [
    "df = pd.read_csv('demographics.csv')"
   ]
  },
  {
   "cell_type": "code",
   "execution_count": 3,
   "id": "e462bf38",
   "metadata": {},
   "outputs": [
    {
     "data": {
      "text/html": [
       "<div>\n",
       "<style scoped>\n",
       "    .dataframe tbody tr th:only-of-type {\n",
       "        vertical-align: middle;\n",
       "    }\n",
       "\n",
       "    .dataframe tbody tr th {\n",
       "        vertical-align: top;\n",
       "    }\n",
       "\n",
       "    .dataframe thead th {\n",
       "        text-align: right;\n",
       "    }\n",
       "</style>\n",
       "<table border=\"1\" class=\"dataframe\">\n",
       "  <thead>\n",
       "    <tr style=\"text-align: right;\">\n",
       "      <th></th>\n",
       "      <th>rank</th>\n",
       "      <th>age_code</th>\n",
       "      <th>gender_code</th>\n",
       "      <th>product_name</th>\n",
       "      <th>audience_percentage</th>\n",
       "      <th>product_package</th>\n",
       "      <th>total_active_users</th>\n",
       "      <th>active_users</th>\n",
       "      <th>sub_genre</th>\n",
       "    </tr>\n",
       "  </thead>\n",
       "  <tbody>\n",
       "    <tr>\n",
       "      <th>0</th>\n",
       "      <td>1</td>\n",
       "      <td>&lt;25</td>\n",
       "      <td>male</td>\n",
       "      <td>SHEIN-Fashion Shopping Online</td>\n",
       "      <td>0.045142</td>\n",
       "      <td>com.zzkko</td>\n",
       "      <td>19157963</td>\n",
       "      <td>864829</td>\n",
       "      <td>E-Commerce (Retailer)</td>\n",
       "    </tr>\n",
       "    <tr>\n",
       "      <th>1</th>\n",
       "      <td>1</td>\n",
       "      <td>&gt;44</td>\n",
       "      <td>female</td>\n",
       "      <td>SHEIN-Fashion Shopping Online</td>\n",
       "      <td>0.117831</td>\n",
       "      <td>com.zzkko</td>\n",
       "      <td>19157963</td>\n",
       "      <td>2257395</td>\n",
       "      <td>E-Commerce (Retailer)</td>\n",
       "    </tr>\n",
       "    <tr>\n",
       "      <th>2</th>\n",
       "      <td>1</td>\n",
       "      <td>&gt;44</td>\n",
       "      <td>male</td>\n",
       "      <td>SHEIN-Fashion Shopping Online</td>\n",
       "      <td>0.021036</td>\n",
       "      <td>com.zzkko</td>\n",
       "      <td>19157963</td>\n",
       "      <td>403005</td>\n",
       "      <td>E-Commerce (Retailer)</td>\n",
       "    </tr>\n",
       "    <tr>\n",
       "      <th>3</th>\n",
       "      <td>1</td>\n",
       "      <td>all</td>\n",
       "      <td>all</td>\n",
       "      <td>SHEIN-Fashion Shopping Online</td>\n",
       "      <td>1.000000</td>\n",
       "      <td>com.zzkko</td>\n",
       "      <td>19157963</td>\n",
       "      <td>19157963</td>\n",
       "      <td>E-Commerce (Retailer)</td>\n",
       "    </tr>\n",
       "    <tr>\n",
       "      <th>4</th>\n",
       "      <td>1</td>\n",
       "      <td>entre 25 e 44</td>\n",
       "      <td>male</td>\n",
       "      <td>SHEIN-Fashion Shopping Online</td>\n",
       "      <td>0.102512</td>\n",
       "      <td>com.zzkko</td>\n",
       "      <td>19157963</td>\n",
       "      <td>1963926</td>\n",
       "      <td>E-Commerce (Retailer)</td>\n",
       "    </tr>\n",
       "  </tbody>\n",
       "</table>\n",
       "</div>"
      ],
      "text/plain": [
       "   rank       age_code gender_code                   product_name  \\\n",
       "0     1            <25        male  SHEIN-Fashion Shopping Online   \n",
       "1     1            >44      female  SHEIN-Fashion Shopping Online   \n",
       "2     1            >44        male  SHEIN-Fashion Shopping Online   \n",
       "3     1            all         all  SHEIN-Fashion Shopping Online   \n",
       "4     1  entre 25 e 44        male  SHEIN-Fashion Shopping Online   \n",
       "\n",
       "   audience_percentage product_package  total_active_users  active_users  \\\n",
       "0             0.045142       com.zzkko            19157963        864829   \n",
       "1             0.117831       com.zzkko            19157963       2257395   \n",
       "2             0.021036       com.zzkko            19157963        403005   \n",
       "3             1.000000       com.zzkko            19157963      19157963   \n",
       "4             0.102512       com.zzkko            19157963       1963926   \n",
       "\n",
       "               sub_genre  \n",
       "0  E-Commerce (Retailer)  \n",
       "1  E-Commerce (Retailer)  \n",
       "2  E-Commerce (Retailer)  \n",
       "3  E-Commerce (Retailer)  \n",
       "4  E-Commerce (Retailer)  "
      ]
     },
     "execution_count": 3,
     "metadata": {},
     "output_type": "execute_result"
    }
   ],
   "source": [
    "df.head()"
   ]
  },
  {
   "cell_type": "code",
   "execution_count": 4,
   "id": "88408bfe",
   "metadata": {},
   "outputs": [
    {
     "name": "stdout",
     "output_type": "stream",
     "text": [
      "<class 'pandas.core.frame.DataFrame'>\n",
      "RangeIndex: 2100 entries, 0 to 2099\n",
      "Data columns (total 9 columns):\n",
      " #   Column               Non-Null Count  Dtype  \n",
      "---  ------               --------------  -----  \n",
      " 0   rank                 2100 non-null   int64  \n",
      " 1   age_code             2100 non-null   object \n",
      " 2   gender_code          2100 non-null   object \n",
      " 3   product_name         2100 non-null   object \n",
      " 4   audience_percentage  2100 non-null   float64\n",
      " 5   product_package      2100 non-null   object \n",
      " 6   total_active_users   2100 non-null   int64  \n",
      " 7   active_users         2100 non-null   int64  \n",
      " 8   sub_genre            2100 non-null   object \n",
      "dtypes: float64(1), int64(3), object(5)\n",
      "memory usage: 147.8+ KB\n"
     ]
    }
   ],
   "source": [
    "df.info()"
   ]
  },
  {
   "cell_type": "code",
   "execution_count": 5,
   "id": "579e795c",
   "metadata": {
    "scrolled": true
   },
   "outputs": [],
   "source": [
    "#df['audience_percentage'] = pd.to_numeric(df['audience_percentage'].str.replace('%',''))"
   ]
  },
  {
   "cell_type": "code",
   "execution_count": 6,
   "id": "089f5c0c",
   "metadata": {},
   "outputs": [],
   "source": [
    "df['audience_percentage'] = df['audience_percentage'].astype('float')"
   ]
  },
  {
   "cell_type": "code",
   "execution_count": 7,
   "id": "b5fec909",
   "metadata": {},
   "outputs": [],
   "source": [
    "df['rank'] = df['rank'].astype('object')"
   ]
  },
  {
   "cell_type": "code",
   "execution_count": 8,
   "id": "31d32702",
   "metadata": {},
   "outputs": [],
   "source": [
    "#qual o genero predominante no total\n",
    "gender_df = df.query(\"age_code == 'all' and gender_code != 'all'\")"
   ]
  },
  {
   "cell_type": "code",
   "execution_count": 9,
   "id": "786eea83",
   "metadata": {},
   "outputs": [],
   "source": [
    "gender_count = gender_df.groupby(\"gender_code\")[\"active_users\"].sum()"
   ]
  },
  {
   "cell_type": "code",
   "execution_count": 10,
   "id": "24048024",
   "metadata": {},
   "outputs": [
    {
     "data": {
      "text/plain": [
       "Text(0, 0.5, '')"
      ]
     },
     "execution_count": 10,
     "metadata": {},
     "output_type": "execute_result"
    },
    {
     "data": {
      "image/png": "[encoded data removed]",
      "text/plain": [
       "<Figure size 576x432 with 1 Axes>"
      ]
     },
     "metadata": {},
     "output_type": "display_data"
    }
   ],
   "source": [
    "\n",
    "import seaborn as sns\n",
    "\n",
    "\n",
    "plt.figure(figsize=(8, 6))\n",
    "colors = sns.color_palette('Set2')[0:5]\n",
    "gender_count.plot.pie(autopct='%.2f%%',colors = colors,textprops={'fontsize': 12, 'color':'black'})\n",
    "plt.title('Gênero dos usuários de aplicativos', fontdict={'family': 'Arial', 'size': 18, 'weight': 'bold'})\n",
    "plt.legend(labels=['Feminino','Masculino'],loc='lower left')\n",
    "plt.ylabel(\"\")"
   ]
  },
  {
   "cell_type": "code",
   "execution_count": 11,
   "id": "c7c8b602",
   "metadata": {},
   "outputs": [],
   "source": [
    "# 54.5% dos usuarios de aplicativos de ecommerce sao mulheres"
   ]
  },
  {
   "cell_type": "code",
   "execution_count": 12,
   "id": "d8b63c23",
   "metadata": {},
   "outputs": [],
   "source": [
    "#qual a idade predominante\n",
    "age_df = df.query(\"age_code != 'all' and gender_code == 'all'\")"
   ]
  },
  {
   "cell_type": "code",
   "execution_count": 13,
   "id": "d719f116",
   "metadata": {},
   "outputs": [
    {
     "data": {
      "text/html": [
       "<div>\n",
       "<style scoped>\n",
       "    .dataframe tbody tr th:only-of-type {\n",
       "        vertical-align: middle;\n",
       "    }\n",
       "\n",
       "    .dataframe tbody tr th {\n",
       "        vertical-align: top;\n",
       "    }\n",
       "\n",
       "    .dataframe thead th {\n",
       "        text-align: right;\n",
       "    }\n",
       "</style>\n",
       "<table border=\"1\" class=\"dataframe\">\n",
       "  <thead>\n",
       "    <tr style=\"text-align: right;\">\n",
       "      <th></th>\n",
       "      <th>rank</th>\n",
       "      <th>age_code</th>\n",
       "      <th>gender_code</th>\n",
       "      <th>product_name</th>\n",
       "      <th>audience_percentage</th>\n",
       "      <th>product_package</th>\n",
       "      <th>total_active_users</th>\n",
       "      <th>active_users</th>\n",
       "      <th>sub_genre</th>\n",
       "    </tr>\n",
       "  </thead>\n",
       "  <tbody>\n",
       "    <tr>\n",
       "      <th>7</th>\n",
       "      <td>1</td>\n",
       "      <td>&lt;25</td>\n",
       "      <td>all</td>\n",
       "      <td>SHEIN-Fashion Shopping Online</td>\n",
       "      <td>0.222567</td>\n",
       "      <td>com.zzkko</td>\n",
       "      <td>19157963</td>\n",
       "      <td>4263933</td>\n",
       "      <td>E-Commerce (Retailer)</td>\n",
       "    </tr>\n",
       "    <tr>\n",
       "      <th>10</th>\n",
       "      <td>1</td>\n",
       "      <td>&gt;44</td>\n",
       "      <td>all</td>\n",
       "      <td>SHEIN-Fashion Shopping Online</td>\n",
       "      <td>0.138866</td>\n",
       "      <td>com.zzkko</td>\n",
       "      <td>19157963</td>\n",
       "      <td>2660399</td>\n",
       "      <td>E-Commerce (Retailer)</td>\n",
       "    </tr>\n",
       "    <tr>\n",
       "      <th>11</th>\n",
       "      <td>1</td>\n",
       "      <td>entre 25 e 44</td>\n",
       "      <td>all</td>\n",
       "      <td>SHEIN-Fashion Shopping Online</td>\n",
       "      <td>0.638566</td>\n",
       "      <td>com.zzkko</td>\n",
       "      <td>19157963</td>\n",
       "      <td>12233631</td>\n",
       "      <td>E-Commerce (Retailer)</td>\n",
       "    </tr>\n",
       "    <tr>\n",
       "      <th>18</th>\n",
       "      <td>2</td>\n",
       "      <td>&gt;44</td>\n",
       "      <td>all</td>\n",
       "      <td>Shopee: Compre de Tudo Online</td>\n",
       "      <td>0.180000</td>\n",
       "      <td>com.shopee.br</td>\n",
       "      <td>44589200</td>\n",
       "      <td>8026056</td>\n",
       "      <td>E-Commerce (C2C)</td>\n",
       "    </tr>\n",
       "    <tr>\n",
       "      <th>20</th>\n",
       "      <td>2</td>\n",
       "      <td>entre 25 e 44</td>\n",
       "      <td>all</td>\n",
       "      <td>Shopee: Compre de Tudo Online</td>\n",
       "      <td>0.700000</td>\n",
       "      <td>com.shopee.br</td>\n",
       "      <td>44589200</td>\n",
       "      <td>31212440</td>\n",
       "      <td>E-Commerce (C2C)</td>\n",
       "    </tr>\n",
       "    <tr>\n",
       "      <th>...</th>\n",
       "      <td>...</td>\n",
       "      <td>...</td>\n",
       "      <td>...</td>\n",
       "      <td>...</td>\n",
       "      <td>...</td>\n",
       "      <td>...</td>\n",
       "      <td>...</td>\n",
       "      <td>...</td>\n",
       "      <td>...</td>\n",
       "    </tr>\n",
       "    <tr>\n",
       "      <th>2085</th>\n",
       "      <td>341</td>\n",
       "      <td>&gt;44</td>\n",
       "      <td>all</td>\n",
       "      <td>Shopping list — Lister</td>\n",
       "      <td>0.000001</td>\n",
       "      <td>com.DramaProductions.Einkaufen5</td>\n",
       "      <td>13254</td>\n",
       "      <td>0</td>\n",
       "      <td>Other Shopping</td>\n",
       "    </tr>\n",
       "    <tr>\n",
       "      <th>2086</th>\n",
       "      <td>341</td>\n",
       "      <td>entre 25 e 44</td>\n",
       "      <td>all</td>\n",
       "      <td>Shopping list — Lister</td>\n",
       "      <td>0.169408</td>\n",
       "      <td>com.DramaProductions.Einkaufen5</td>\n",
       "      <td>13254</td>\n",
       "      <td>2245</td>\n",
       "      <td>Other Shopping</td>\n",
       "    </tr>\n",
       "    <tr>\n",
       "      <th>2093</th>\n",
       "      <td>344</td>\n",
       "      <td>entre 25 e 44</td>\n",
       "      <td>all</td>\n",
       "      <td>Menores Preços Dudu Rocha</td>\n",
       "      <td>0.706784</td>\n",
       "      <td>com.influesolutions.influeassistant.dudurocha</td>\n",
       "      <td>3166</td>\n",
       "      <td>2238</td>\n",
       "      <td>E-Commerce (B2C)</td>\n",
       "    </tr>\n",
       "    <tr>\n",
       "      <th>2094</th>\n",
       "      <td>344</td>\n",
       "      <td>&gt;44</td>\n",
       "      <td>all</td>\n",
       "      <td>Menores Preços Dudu Rocha</td>\n",
       "      <td>0.293168</td>\n",
       "      <td>com.influesolutions.influeassistant.dudurocha</td>\n",
       "      <td>3166</td>\n",
       "      <td>928</td>\n",
       "      <td>E-Commerce (B2C)</td>\n",
       "    </tr>\n",
       "    <tr>\n",
       "      <th>2096</th>\n",
       "      <td>344</td>\n",
       "      <td>&lt;25</td>\n",
       "      <td>all</td>\n",
       "      <td>Menores Preços Dudu Rocha</td>\n",
       "      <td>0.000048</td>\n",
       "      <td>com.influesolutions.influeassistant.dudurocha</td>\n",
       "      <td>3166</td>\n",
       "      <td>0</td>\n",
       "      <td>E-Commerce (B2C)</td>\n",
       "    </tr>\n",
       "  </tbody>\n",
       "</table>\n",
       "<p>525 rows × 9 columns</p>\n",
       "</div>"
      ],
      "text/plain": [
       "     rank       age_code gender_code                   product_name  \\\n",
       "7       1            <25         all  SHEIN-Fashion Shopping Online   \n",
       "10      1            >44         all  SHEIN-Fashion Shopping Online   \n",
       "11      1  entre 25 e 44         all  SHEIN-Fashion Shopping Online   \n",
       "18      2            >44         all  Shopee: Compre de Tudo Online   \n",
       "20      2  entre 25 e 44         all  Shopee: Compre de Tudo Online   \n",
       "...   ...            ...         ...                            ...   \n",
       "2085  341            >44         all         Shopping list — Lister   \n",
       "2086  341  entre 25 e 44         all         Shopping list — Lister   \n",
       "2093  344  entre 25 e 44         all      Menores Preços Dudu Rocha   \n",
       "2094  344            >44         all      Menores Preços Dudu Rocha   \n",
       "2096  344            <25         all      Menores Preços Dudu Rocha   \n",
       "\n",
       "      audience_percentage                                product_package  \\\n",
       "7                0.222567                                      com.zzkko   \n",
       "10               0.138866                                      com.zzkko   \n",
       "11               0.638566                                      com.zzkko   \n",
       "18               0.180000                                  com.shopee.br   \n",
       "20               0.700000                                  com.shopee.br   \n",
       "...                   ...                                            ...   \n",
       "2085             0.000001                com.DramaProductions.Einkaufen5   \n",
       "2086             0.169408                com.DramaProductions.Einkaufen5   \n",
       "2093             0.706784  com.influesolutions.influeassistant.dudurocha   \n",
       "2094             0.293168  com.influesolutions.influeassistant.dudurocha   \n",
       "2096             0.000048  com.influesolutions.influeassistant.dudurocha   \n",
       "\n",
       "      total_active_users  active_users              sub_genre  \n",
       "7               19157963       4263933  E-Commerce (Retailer)  \n",
       "10              19157963       2660399  E-Commerce (Retailer)  \n",
       "11              19157963      12233631  E-Commerce (Retailer)  \n",
       "18              44589200       8026056       E-Commerce (C2C)  \n",
       "20              44589200      31212440       E-Commerce (C2C)  \n",
       "...                  ...           ...                    ...  \n",
       "2085               13254             0         Other Shopping  \n",
       "2086               13254          2245         Other Shopping  \n",
       "2093                3166          2238       E-Commerce (B2C)  \n",
       "2094                3166           928       E-Commerce (B2C)  \n",
       "2096                3166             0       E-Commerce (B2C)  \n",
       "\n",
       "[525 rows x 9 columns]"
      ]
     },
     "execution_count": 13,
     "metadata": {},
     "output_type": "execute_result"
    }
   ],
   "source": [
    "age_df"
   ]
  },
  {
   "cell_type": "code",
   "execution_count": 14,
   "id": "45f6894c",
   "metadata": {},
   "outputs": [],
   "source": [
    "age_count = age_df.groupby(\"age_code\")[\"active_users\"].sum()"
   ]
  },
  {
   "cell_type": "code",
   "execution_count": 15,
   "id": "9c51d284",
   "metadata": {},
   "outputs": [
    {
     "data": {
      "text/plain": [
       "age_code\n",
       "<25               36718853\n",
       ">44               62906178\n",
       "entre 25 e 44    194196738\n",
       "Name: active_users, dtype: int64"
      ]
     },
     "execution_count": 15,
     "metadata": {},
     "output_type": "execute_result"
    }
   ],
   "source": [
    "age_count"
   ]
  },
  {
   "cell_type": "code",
   "execution_count": 16,
   "id": "533237aa",
   "metadata": {},
   "outputs": [
    {
     "data": {
      "text/plain": [
       "Text(0, 0.5, '')"
      ]
     },
     "execution_count": 16,
     "metadata": {},
     "output_type": "execute_result"
    },
    {
     "data": {
      "image/png": "[encoded data removed]",
      "text/plain": [
       "<Figure size 576x432 with 1 Axes>"
      ]
     },
     "metadata": {},
     "output_type": "display_data"
    }
   ],
   "source": [
    "\n",
    "\n",
    "\n",
    "plt.figure(figsize=(8, 6))\n",
    "colors = sns.color_palette('Set2')[0:5]\n",
    "age_count.plot.pie(autopct='%.2f%%',colors = colors,textprops={'fontsize': 12, 'color':'black'})\n",
    "plt.title('Idade dos usuarios', fontdict={'family': 'Arial', 'size': 18})\n",
    "plt.legend(labels=['menor que 25','maior que 44','entre 25 e 44'],loc='lower right')\n",
    "plt.ylabel(\"\")"
   ]
  },
  {
   "cell_type": "code",
   "execution_count": 17,
   "id": "a3a12bf9",
   "metadata": {},
   "outputs": [],
   "source": [
    "#apps preferido das mulheres\n",
    "women_df = df.query(\"gender_code == 'female' and age_code =='all' and audience_percentage >= 0.51\")"
   ]
  },
  {
   "cell_type": "code",
   "execution_count": 18,
   "id": "35268755",
   "metadata": {},
   "outputs": [
    {
     "data": {
      "text/html": [
       "<div>\n",
       "<style scoped>\n",
       "    .dataframe tbody tr th:only-of-type {\n",
       "        vertical-align: middle;\n",
       "    }\n",
       "\n",
       "    .dataframe tbody tr th {\n",
       "        vertical-align: top;\n",
       "    }\n",
       "\n",
       "    .dataframe thead th {\n",
       "        text-align: right;\n",
       "    }\n",
       "</style>\n",
       "<table border=\"1\" class=\"dataframe\">\n",
       "  <thead>\n",
       "    <tr style=\"text-align: right;\">\n",
       "      <th></th>\n",
       "      <th>rank</th>\n",
       "      <th>age_code</th>\n",
       "      <th>gender_code</th>\n",
       "      <th>product_name</th>\n",
       "      <th>audience_percentage</th>\n",
       "      <th>product_package</th>\n",
       "      <th>total_active_users</th>\n",
       "      <th>active_users</th>\n",
       "      <th>sub_genre</th>\n",
       "    </tr>\n",
       "  </thead>\n",
       "  <tbody>\n",
       "    <tr>\n",
       "      <th>6</th>\n",
       "      <td>1</td>\n",
       "      <td>all</td>\n",
       "      <td>female</td>\n",
       "      <td>SHEIN-Fashion Shopping Online</td>\n",
       "      <td>0.831310</td>\n",
       "      <td>com.zzkko</td>\n",
       "      <td>19157963</td>\n",
       "      <td>15926202</td>\n",
       "      <td>E-Commerce (Retailer)</td>\n",
       "    </tr>\n",
       "    <tr>\n",
       "      <th>15</th>\n",
       "      <td>2</td>\n",
       "      <td>all</td>\n",
       "      <td>female</td>\n",
       "      <td>Shopee: Compre de Tudo Online</td>\n",
       "      <td>0.570000</td>\n",
       "      <td>com.shopee.br</td>\n",
       "      <td>44589200</td>\n",
       "      <td>25415844</td>\n",
       "      <td>E-Commerce (C2C)</td>\n",
       "    </tr>\n",
       "    <tr>\n",
       "      <th>41</th>\n",
       "      <td>4</td>\n",
       "      <td>all</td>\n",
       "      <td>female</td>\n",
       "      <td>Magalu: loja e compras online</td>\n",
       "      <td>0.557237</td>\n",
       "      <td>com.luizalabs.mlapp</td>\n",
       "      <td>21192916</td>\n",
       "      <td>11809473</td>\n",
       "      <td>E-Commerce (B2C)</td>\n",
       "    </tr>\n",
       "    <tr>\n",
       "      <th>57</th>\n",
       "      <td>5</td>\n",
       "      <td>all</td>\n",
       "      <td>female</td>\n",
       "      <td>Americanas: compras online</td>\n",
       "      <td>0.583464</td>\n",
       "      <td>com.b2w.americanas</td>\n",
       "      <td>23795465</td>\n",
       "      <td>13883803</td>\n",
       "      <td>E-Commerce (B2C)</td>\n",
       "    </tr>\n",
       "    <tr>\n",
       "      <th>83</th>\n",
       "      <td>7</td>\n",
       "      <td>all</td>\n",
       "      <td>female</td>\n",
       "      <td>Casas Bahia: Compras Online</td>\n",
       "      <td>0.558918</td>\n",
       "      <td>com.novapontocom.casasbahia</td>\n",
       "      <td>10986033</td>\n",
       "      <td>6140296</td>\n",
       "      <td>E-Commerce (B2C)</td>\n",
       "    </tr>\n",
       "  </tbody>\n",
       "</table>\n",
       "</div>"
      ],
      "text/plain": [
       "   rank age_code gender_code                   product_name  \\\n",
       "6     1      all      female  SHEIN-Fashion Shopping Online   \n",
       "15    2      all      female  Shopee: Compre de Tudo Online   \n",
       "41    4      all      female  Magalu: loja e compras online   \n",
       "57    5      all      female     Americanas: compras online   \n",
       "83    7      all      female    Casas Bahia: Compras Online   \n",
       "\n",
       "    audience_percentage              product_package  total_active_users  \\\n",
       "6              0.831310                    com.zzkko            19157963   \n",
       "15             0.570000                com.shopee.br            44589200   \n",
       "41             0.557237          com.luizalabs.mlapp            21192916   \n",
       "57             0.583464           com.b2w.americanas            23795465   \n",
       "83             0.558918  com.novapontocom.casasbahia            10986033   \n",
       "\n",
       "    active_users              sub_genre  \n",
       "6       15926202  E-Commerce (Retailer)  \n",
       "15      25415844       E-Commerce (C2C)  \n",
       "41      11809473       E-Commerce (B2C)  \n",
       "57      13883803       E-Commerce (B2C)  \n",
       "83       6140296       E-Commerce (B2C)  "
      ]
     },
     "execution_count": 18,
     "metadata": {},
     "output_type": "execute_result"
    }
   ],
   "source": [
    "women_df.head(5)"
   ]
  },
  {
   "cell_type": "code",
   "execution_count": 28,
   "id": "2f254138",
   "metadata": {},
   "outputs": [
    {
     "data": {
      "text/plain": [
       "E-Commerce (Retailer)    53\n",
       "E-Commerce (B2C)         24\n",
       "Other Shopping           10\n",
       "E-Commerce (C2C)          9\n",
       "Coupons & Rewards         7\n",
       "Resell                    2\n",
       "Pharmacy & Drugstore      1\n",
       "Name: sub_genre, dtype: int64"
      ]
     },
     "execution_count": 28,
     "metadata": {},
     "output_type": "execute_result"
    }
   ],
   "source": [
    "women_df['sub_genre'].value_counts()"
   ]
  },
  {
   "cell_type": "code",
   "execution_count": 20,
   "id": "94347d66",
   "metadata": {},
   "outputs": [],
   "source": [
    "#apps preferido dos homens\n",
    "men_df = df.query(\"gender_code == 'male' and age_code =='all' and audience_percentage >= 0.51\")"
   ]
  },
  {
   "cell_type": "code",
   "execution_count": 21,
   "id": "a0f81d27",
   "metadata": {},
   "outputs": [
    {
     "data": {
      "text/html": [
       "<div>\n",
       "<style scoped>\n",
       "    .dataframe tbody tr th:only-of-type {\n",
       "        vertical-align: middle;\n",
       "    }\n",
       "\n",
       "    .dataframe tbody tr th {\n",
       "        vertical-align: top;\n",
       "    }\n",
       "\n",
       "    .dataframe thead th {\n",
       "        text-align: right;\n",
       "    }\n",
       "</style>\n",
       "<table border=\"1\" class=\"dataframe\">\n",
       "  <thead>\n",
       "    <tr style=\"text-align: right;\">\n",
       "      <th></th>\n",
       "      <th>rank</th>\n",
       "      <th>age_code</th>\n",
       "      <th>gender_code</th>\n",
       "      <th>product_name</th>\n",
       "      <th>audience_percentage</th>\n",
       "      <th>product_package</th>\n",
       "      <th>total_active_users</th>\n",
       "      <th>active_users</th>\n",
       "      <th>sub_genre</th>\n",
       "    </tr>\n",
       "  </thead>\n",
       "  <tbody>\n",
       "    <tr>\n",
       "      <th>33</th>\n",
       "      <td>3</td>\n",
       "      <td>all</td>\n",
       "      <td>male</td>\n",
       "      <td>Mercado Libre: Compras Online</td>\n",
       "      <td>0.572672</td>\n",
       "      <td>com.mercadolibre</td>\n",
       "      <td>41144943</td>\n",
       "      <td>23562552</td>\n",
       "      <td>E-Commerce (C2C)</td>\n",
       "    </tr>\n",
       "    <tr>\n",
       "      <th>63</th>\n",
       "      <td>6</td>\n",
       "      <td>all</td>\n",
       "      <td>male</td>\n",
       "      <td>Amazon Shopping</td>\n",
       "      <td>0.517641</td>\n",
       "      <td>com.amazon.mShop.android.shopping</td>\n",
       "      <td>19012526</td>\n",
       "      <td>9841667</td>\n",
       "      <td>E-Commerce (B2C)</td>\n",
       "    </tr>\n",
       "    <tr>\n",
       "      <th>92</th>\n",
       "      <td>8</td>\n",
       "      <td>all</td>\n",
       "      <td>male</td>\n",
       "      <td>AliExpress</td>\n",
       "      <td>0.563909</td>\n",
       "      <td>com.alibaba.aliexpresshd</td>\n",
       "      <td>20700695</td>\n",
       "      <td>11673307</td>\n",
       "      <td>E-Commerce (B2C)</td>\n",
       "    </tr>\n",
       "    <tr>\n",
       "      <th>101</th>\n",
       "      <td>9</td>\n",
       "      <td>all</td>\n",
       "      <td>male</td>\n",
       "      <td>OLX - Venda e Compra Online</td>\n",
       "      <td>0.660075</td>\n",
       "      <td>com.schibsted.bomnegocio.androidApp</td>\n",
       "      <td>18685367</td>\n",
       "      <td>12333753</td>\n",
       "      <td>Resell</td>\n",
       "    </tr>\n",
       "    <tr>\n",
       "      <th>153</th>\n",
       "      <td>13</td>\n",
       "      <td>all</td>\n",
       "      <td>male</td>\n",
       "      <td>Netshoes: Loja de Esportes</td>\n",
       "      <td>0.550000</td>\n",
       "      <td>br.com.netshoes.app</td>\n",
       "      <td>5495372</td>\n",
       "      <td>3022455</td>\n",
       "      <td>E-Commerce (Retailer)</td>\n",
       "    </tr>\n",
       "  </tbody>\n",
       "</table>\n",
       "</div>"
      ],
      "text/plain": [
       "    rank age_code gender_code                   product_name  \\\n",
       "33     3      all        male  Mercado Libre: Compras Online   \n",
       "63     6      all        male                Amazon Shopping   \n",
       "92     8      all        male                     AliExpress   \n",
       "101    9      all        male    OLX - Venda e Compra Online   \n",
       "153   13      all        male     Netshoes: Loja de Esportes   \n",
       "\n",
       "     audience_percentage                      product_package  \\\n",
       "33              0.572672                     com.mercadolibre   \n",
       "63              0.517641    com.amazon.mShop.android.shopping   \n",
       "92              0.563909             com.alibaba.aliexpresshd   \n",
       "101             0.660075  com.schibsted.bomnegocio.androidApp   \n",
       "153             0.550000                  br.com.netshoes.app   \n",
       "\n",
       "     total_active_users  active_users              sub_genre  \n",
       "33             41144943      23562552       E-Commerce (C2C)  \n",
       "63             19012526       9841667       E-Commerce (B2C)  \n",
       "92             20700695      11673307       E-Commerce (B2C)  \n",
       "101            18685367      12333753                 Resell  \n",
       "153             5495372       3022455  E-Commerce (Retailer)  "
      ]
     },
     "execution_count": 21,
     "metadata": {},
     "output_type": "execute_result"
    }
   ],
   "source": [
    "men_df.head(5)"
   ]
  },
  {
   "cell_type": "code",
   "execution_count": 29,
   "id": "00c33456",
   "metadata": {},
   "outputs": [
    {
     "data": {
      "text/plain": [
       "E-Commerce (Retailer)    25\n",
       "E-Commerce (B2C)         14\n",
       "Coupons & Rewards        11\n",
       "E-Commerce (C2C)          7\n",
       "Other Shopping            5\n",
       "Resell                    1\n",
       "Pharmacy & Drugstore      1\n",
       "BNPL                      1\n",
       "Name: sub_genre, dtype: int64"
      ]
     },
     "execution_count": 29,
     "metadata": {},
     "output_type": "execute_result"
    }
   ],
   "source": [
    "men_df['sub_genre'].value_counts()"
   ]
  },
  {
   "cell_type": "code",
   "execution_count": 22,
   "id": "1fba4ccd",
   "metadata": {},
   "outputs": [],
   "source": [
    "#apps preferido dos mais jovens\n",
    "young_df = df.query(\"gender_code == 'all' and age_code =='<25' and audience_percentage >= 0.51\")"
   ]
  },
  {
   "cell_type": "code",
   "execution_count": 23,
   "id": "80f1bac5",
   "metadata": {},
   "outputs": [
    {
     "data": {
      "text/html": [
       "<div>\n",
       "<style scoped>\n",
       "    .dataframe tbody tr th:only-of-type {\n",
       "        vertical-align: middle;\n",
       "    }\n",
       "\n",
       "    .dataframe tbody tr th {\n",
       "        vertical-align: top;\n",
       "    }\n",
       "\n",
       "    .dataframe thead th {\n",
       "        text-align: right;\n",
       "    }\n",
       "</style>\n",
       "<table border=\"1\" class=\"dataframe\">\n",
       "  <thead>\n",
       "    <tr style=\"text-align: right;\">\n",
       "      <th></th>\n",
       "      <th>rank</th>\n",
       "      <th>age_code</th>\n",
       "      <th>gender_code</th>\n",
       "      <th>product_name</th>\n",
       "      <th>audience_percentage</th>\n",
       "      <th>product_package</th>\n",
       "      <th>total_active_users</th>\n",
       "      <th>active_users</th>\n",
       "      <th>sub_genre</th>\n",
       "    </tr>\n",
       "  </thead>\n",
       "  <tbody>\n",
       "    <tr>\n",
       "      <th>1271</th>\n",
       "      <td>150</td>\n",
       "      <td>&lt;25</td>\n",
       "      <td>all</td>\n",
       "      <td>Gelt: Ganar dinero desde casa</td>\n",
       "      <td>0.604294</td>\n",
       "      <td>com.mdfactory.gelt</td>\n",
       "      <td>41720</td>\n",
       "      <td>25211</td>\n",
       "      <td>Coupons &amp; Rewards</td>\n",
       "    </tr>\n",
       "    <tr>\n",
       "      <th>1702</th>\n",
       "      <td>238</td>\n",
       "      <td>&lt;25</td>\n",
       "      <td>all</td>\n",
       "      <td>ROMWE - Ultimate Cyber Mall</td>\n",
       "      <td>0.783095</td>\n",
       "      <td>com.romwe</td>\n",
       "      <td>5074</td>\n",
       "      <td>3973</td>\n",
       "      <td>E-Commerce (Retailer)</td>\n",
       "    </tr>\n",
       "    <tr>\n",
       "      <th>1943</th>\n",
       "      <td>285</td>\n",
       "      <td>&lt;25</td>\n",
       "      <td>all</td>\n",
       "      <td>Wanna Kicks : AR sneakers try</td>\n",
       "      <td>0.740166</td>\n",
       "      <td>by.wanna.apps.wsneakers</td>\n",
       "      <td>15383</td>\n",
       "      <td>11386</td>\n",
       "      <td>E-Commerce (Retailer)</td>\n",
       "    </tr>\n",
       "    <tr>\n",
       "      <th>2037</th>\n",
       "      <td>325</td>\n",
       "      <td>&lt;25</td>\n",
       "      <td>all</td>\n",
       "      <td>Lista de Compras - List</td>\n",
       "      <td>0.833988</td>\n",
       "      <td>br.com.up.list</td>\n",
       "      <td>19675</td>\n",
       "      <td>16409</td>\n",
       "      <td>Other Shopping</td>\n",
       "    </tr>\n",
       "    <tr>\n",
       "      <th>2047</th>\n",
       "      <td>337</td>\n",
       "      <td>&lt;25</td>\n",
       "      <td>all</td>\n",
       "      <td>That Shopping List</td>\n",
       "      <td>0.782335</td>\n",
       "      <td>de.markusliebschner.thatlist</td>\n",
       "      <td>17882</td>\n",
       "      <td>13990</td>\n",
       "      <td>Other Shopping</td>\n",
       "    </tr>\n",
       "  </tbody>\n",
       "</table>\n",
       "</div>"
      ],
      "text/plain": [
       "     rank age_code gender_code                    product_name  \\\n",
       "1271  150      <25         all   Gelt: Ganar dinero desde casa   \n",
       "1702  238      <25         all     ROMWE - Ultimate Cyber Mall   \n",
       "1943  285      <25         all  Wanna Kicks : AR sneakers try    \n",
       "2037  325      <25         all         Lista de Compras - List   \n",
       "2047  337      <25         all              That Shopping List   \n",
       "\n",
       "      audience_percentage               product_package  total_active_users  \\\n",
       "1271             0.604294            com.mdfactory.gelt               41720   \n",
       "1702             0.783095                     com.romwe                5074   \n",
       "1943             0.740166       by.wanna.apps.wsneakers               15383   \n",
       "2037             0.833988                br.com.up.list               19675   \n",
       "2047             0.782335  de.markusliebschner.thatlist               17882   \n",
       "\n",
       "      active_users              sub_genre  \n",
       "1271         25211      Coupons & Rewards  \n",
       "1702          3973  E-Commerce (Retailer)  \n",
       "1943         11386  E-Commerce (Retailer)  \n",
       "2037         16409         Other Shopping  \n",
       "2047         13990         Other Shopping  "
      ]
     },
     "execution_count": 23,
     "metadata": {},
     "output_type": "execute_result"
    }
   ],
   "source": [
    "young_df.head(5)"
   ]
  },
  {
   "cell_type": "code",
   "execution_count": 24,
   "id": "a16c7290",
   "metadata": {},
   "outputs": [],
   "source": [
    "#apps preferido dos mais velhos\n",
    "old_df = df.query(\"gender_code == 'all' and age_code =='>44' and audience_percentage >= 0.51\")"
   ]
  },
  {
   "cell_type": "code",
   "execution_count": 25,
   "id": "0238b06f",
   "metadata": {},
   "outputs": [
    {
     "data": {
      "text/html": [
       "<div>\n",
       "<style scoped>\n",
       "    .dataframe tbody tr th:only-of-type {\n",
       "        vertical-align: middle;\n",
       "    }\n",
       "\n",
       "    .dataframe tbody tr th {\n",
       "        vertical-align: top;\n",
       "    }\n",
       "\n",
       "    .dataframe thead th {\n",
       "        text-align: right;\n",
       "    }\n",
       "</style>\n",
       "<table border=\"1\" class=\"dataframe\">\n",
       "  <thead>\n",
       "    <tr style=\"text-align: right;\">\n",
       "      <th></th>\n",
       "      <th>rank</th>\n",
       "      <th>age_code</th>\n",
       "      <th>gender_code</th>\n",
       "      <th>product_name</th>\n",
       "      <th>audience_percentage</th>\n",
       "      <th>product_package</th>\n",
       "      <th>total_active_users</th>\n",
       "      <th>active_users</th>\n",
       "      <th>sub_genre</th>\n",
       "    </tr>\n",
       "  </thead>\n",
       "  <tbody>\n",
       "    <tr>\n",
       "      <th>1551</th>\n",
       "      <td>205</td>\n",
       "      <td>&gt;44</td>\n",
       "      <td>all</td>\n",
       "      <td>Lojas Marabraz</td>\n",
       "      <td>0.600921</td>\n",
       "      <td>com.app.marabraz</td>\n",
       "      <td>1337</td>\n",
       "      <td>803</td>\n",
       "      <td>E-Commerce (Retailer)</td>\n",
       "    </tr>\n",
       "    <tr>\n",
       "      <th>1604</th>\n",
       "      <td>211</td>\n",
       "      <td>&gt;44</td>\n",
       "      <td>all</td>\n",
       "      <td>Magazine Médica</td>\n",
       "      <td>0.538960</td>\n",
       "      <td>br.com.twa.magazinemedica</td>\n",
       "      <td>12388</td>\n",
       "      <td>6677</td>\n",
       "      <td>E-Commerce (Retailer)</td>\n",
       "    </tr>\n",
       "    <tr>\n",
       "      <th>1782</th>\n",
       "      <td>255</td>\n",
       "      <td>&gt;44</td>\n",
       "      <td>all</td>\n",
       "      <td>Nosso Caetano</td>\n",
       "      <td>0.706775</td>\n",
       "      <td>br.com.smcaetano.appcaetano</td>\n",
       "      <td>20711</td>\n",
       "      <td>14638</td>\n",
       "      <td>E-Commerce (Retailer)</td>\n",
       "    </tr>\n",
       "    <tr>\n",
       "      <th>2002</th>\n",
       "      <td>306</td>\n",
       "      <td>&gt;44</td>\n",
       "      <td>all</td>\n",
       "      <td>Bershka: Fashion &amp; trends</td>\n",
       "      <td>0.772999</td>\n",
       "      <td>com.inditex.ecommerce.bershka</td>\n",
       "      <td>3807</td>\n",
       "      <td>2943</td>\n",
       "      <td>E-Commerce (Retailer)</td>\n",
       "    </tr>\n",
       "    <tr>\n",
       "      <th>2059</th>\n",
       "      <td>338</td>\n",
       "      <td>&gt;44</td>\n",
       "      <td>all</td>\n",
       "      <td>Shopping list voice input PRO</td>\n",
       "      <td>0.574287</td>\n",
       "      <td>com.tksolution.einkaufszettelmitspracheingabepro</td>\n",
       "      <td>3235</td>\n",
       "      <td>1858</td>\n",
       "      <td>Other Shopping</td>\n",
       "    </tr>\n",
       "  </tbody>\n",
       "</table>\n",
       "</div>"
      ],
      "text/plain": [
       "     rank age_code gender_code                   product_name  \\\n",
       "1551  205      >44         all                 Lojas Marabraz   \n",
       "1604  211      >44         all                Magazine Médica   \n",
       "1782  255      >44         all                  Nosso Caetano   \n",
       "2002  306      >44         all      Bershka: Fashion & trends   \n",
       "2059  338      >44         all  Shopping list voice input PRO   \n",
       "\n",
       "      audience_percentage                                   product_package  \\\n",
       "1551             0.600921                                  com.app.marabraz   \n",
       "1604             0.538960                         br.com.twa.magazinemedica   \n",
       "1782             0.706775                       br.com.smcaetano.appcaetano   \n",
       "2002             0.772999                     com.inditex.ecommerce.bershka   \n",
       "2059             0.574287  com.tksolution.einkaufszettelmitspracheingabepro   \n",
       "\n",
       "      total_active_users  active_users              sub_genre  \n",
       "1551                1337           803  E-Commerce (Retailer)  \n",
       "1604               12388          6677  E-Commerce (Retailer)  \n",
       "1782               20711         14638  E-Commerce (Retailer)  \n",
       "2002                3807          2943  E-Commerce (Retailer)  \n",
       "2059                3235          1858         Other Shopping  "
      ]
     },
     "execution_count": 25,
     "metadata": {},
     "output_type": "execute_result"
    }
   ],
   "source": [
    "old_df.head(5)"
   ]
  },
  {
   "cell_type": "code",
   "execution_count": 26,
   "id": "d24304b3",
   "metadata": {},
   "outputs": [],
   "source": [
    "#Considerando os aplicativos com mais de 60% de audiencia entre as mulheres, como muda a faixa etaria\n",
    "# em relacao a analise com todos \n",
    "women_age_df = df.query(\"gender_code == 'female' and age_code !='all'\")"
   ]
  },
  {
   "cell_type": "code",
   "execution_count": 27,
   "id": "35907acd",
   "metadata": {},
   "outputs": [
    {
     "data": {
      "text/html": [
       "<div>\n",
       "<style scoped>\n",
       "    .dataframe tbody tr th:only-of-type {\n",
       "        vertical-align: middle;\n",
       "    }\n",
       "\n",
       "    .dataframe tbody tr th {\n",
       "        vertical-align: top;\n",
       "    }\n",
       "\n",
       "    .dataframe thead th {\n",
       "        text-align: right;\n",
       "    }\n",
       "</style>\n",
       "<table border=\"1\" class=\"dataframe\">\n",
       "  <thead>\n",
       "    <tr style=\"text-align: right;\">\n",
       "      <th></th>\n",
       "      <th>rank</th>\n",
       "      <th>age_code</th>\n",
       "      <th>gender_code</th>\n",
       "      <th>product_name</th>\n",
       "      <th>audience_percentage</th>\n",
       "      <th>product_package</th>\n",
       "      <th>total_active_users</th>\n",
       "      <th>active_users</th>\n",
       "      <th>sub_genre</th>\n",
       "    </tr>\n",
       "  </thead>\n",
       "  <tbody>\n",
       "    <tr>\n",
       "      <th>1</th>\n",
       "      <td>1</td>\n",
       "      <td>&gt;44</td>\n",
       "      <td>female</td>\n",
       "      <td>SHEIN-Fashion Shopping Online</td>\n",
       "      <td>1.178306e-01</td>\n",
       "      <td>com.zzkko</td>\n",
       "      <td>19157963</td>\n",
       "      <td>2257395</td>\n",
       "      <td>E-Commerce (Retailer)</td>\n",
       "    </tr>\n",
       "    <tr>\n",
       "      <th>5</th>\n",
       "      <td>1</td>\n",
       "      <td>entre 25 e 44</td>\n",
       "      <td>female</td>\n",
       "      <td>SHEIN-Fashion Shopping Online</td>\n",
       "      <td>5.360541e-01</td>\n",
       "      <td>com.zzkko</td>\n",
       "      <td>19157963</td>\n",
       "      <td>10269704</td>\n",
       "      <td>E-Commerce (Retailer)</td>\n",
       "    </tr>\n",
       "    <tr>\n",
       "      <th>9</th>\n",
       "      <td>1</td>\n",
       "      <td>&lt;25</td>\n",
       "      <td>female</td>\n",
       "      <td>SHEIN-Fashion Shopping Online</td>\n",
       "      <td>1.774251e-01</td>\n",
       "      <td>com.zzkko</td>\n",
       "      <td>19157963</td>\n",
       "      <td>3399103</td>\n",
       "      <td>E-Commerce (Retailer)</td>\n",
       "    </tr>\n",
       "    <tr>\n",
       "      <th>12</th>\n",
       "      <td>2</td>\n",
       "      <td>&gt;44</td>\n",
       "      <td>female</td>\n",
       "      <td>Shopee: Compre de Tudo Online</td>\n",
       "      <td>1.000000e-01</td>\n",
       "      <td>com.shopee.br</td>\n",
       "      <td>44589200</td>\n",
       "      <td>4458920</td>\n",
       "      <td>E-Commerce (C2C)</td>\n",
       "    </tr>\n",
       "    <tr>\n",
       "      <th>13</th>\n",
       "      <td>2</td>\n",
       "      <td>&lt;25</td>\n",
       "      <td>female</td>\n",
       "      <td>Shopee: Compre de Tudo Online</td>\n",
       "      <td>7.000000e-02</td>\n",
       "      <td>com.shopee.br</td>\n",
       "      <td>44589200</td>\n",
       "      <td>3121244</td>\n",
       "      <td>E-Commerce (C2C)</td>\n",
       "    </tr>\n",
       "    <tr>\n",
       "      <th>...</th>\n",
       "      <td>...</td>\n",
       "      <td>...</td>\n",
       "      <td>...</td>\n",
       "      <td>...</td>\n",
       "      <td>...</td>\n",
       "      <td>...</td>\n",
       "      <td>...</td>\n",
       "      <td>...</td>\n",
       "      <td>...</td>\n",
       "    </tr>\n",
       "    <tr>\n",
       "      <th>2078</th>\n",
       "      <td>341</td>\n",
       "      <td>entre 25 e 44</td>\n",
       "      <td>female</td>\n",
       "      <td>Shopping list — Lister</td>\n",
       "      <td>1.686198e-01</td>\n",
       "      <td>com.DramaProductions.Einkaufen5</td>\n",
       "      <td>13254</td>\n",
       "      <td>2235</td>\n",
       "      <td>Other Shopping</td>\n",
       "    </tr>\n",
       "    <tr>\n",
       "      <th>2082</th>\n",
       "      <td>341</td>\n",
       "      <td>&lt;25</td>\n",
       "      <td>female</td>\n",
       "      <td>Shopping list — Lister</td>\n",
       "      <td>8.230389e-01</td>\n",
       "      <td>com.DramaProductions.Einkaufen5</td>\n",
       "      <td>13254</td>\n",
       "      <td>10909</td>\n",
       "      <td>Other Shopping</td>\n",
       "    </tr>\n",
       "    <tr>\n",
       "      <th>2095</th>\n",
       "      <td>344</td>\n",
       "      <td>entre 25 e 44</td>\n",
       "      <td>female</td>\n",
       "      <td>Menores Preços Dudu Rocha</td>\n",
       "      <td>6.076479e-03</td>\n",
       "      <td>com.influesolutions.influeassistant.dudurocha</td>\n",
       "      <td>3166</td>\n",
       "      <td>19</td>\n",
       "      <td>E-Commerce (B2C)</td>\n",
       "    </tr>\n",
       "    <tr>\n",
       "      <th>2097</th>\n",
       "      <td>344</td>\n",
       "      <td>&gt;44</td>\n",
       "      <td>female</td>\n",
       "      <td>Menores Preços Dudu Rocha</td>\n",
       "      <td>2.870989e-03</td>\n",
       "      <td>com.influesolutions.influeassistant.dudurocha</td>\n",
       "      <td>3166</td>\n",
       "      <td>9</td>\n",
       "      <td>E-Commerce (B2C)</td>\n",
       "    </tr>\n",
       "    <tr>\n",
       "      <th>2099</th>\n",
       "      <td>344</td>\n",
       "      <td>&lt;25</td>\n",
       "      <td>female</td>\n",
       "      <td>Menores Preços Dudu Rocha</td>\n",
       "      <td>2.160000e-07</td>\n",
       "      <td>com.influesolutions.influeassistant.dudurocha</td>\n",
       "      <td>3166</td>\n",
       "      <td>0</td>\n",
       "      <td>E-Commerce (B2C)</td>\n",
       "    </tr>\n",
       "  </tbody>\n",
       "</table>\n",
       "<p>525 rows × 9 columns</p>\n",
       "</div>"
      ],
      "text/plain": [
       "     rank       age_code gender_code                   product_name  \\\n",
       "1       1            >44      female  SHEIN-Fashion Shopping Online   \n",
       "5       1  entre 25 e 44      female  SHEIN-Fashion Shopping Online   \n",
       "9       1            <25      female  SHEIN-Fashion Shopping Online   \n",
       "12      2            >44      female  Shopee: Compre de Tudo Online   \n",
       "13      2            <25      female  Shopee: Compre de Tudo Online   \n",
       "...   ...            ...         ...                            ...   \n",
       "2078  341  entre 25 e 44      female         Shopping list — Lister   \n",
       "2082  341            <25      female         Shopping list — Lister   \n",
       "2095  344  entre 25 e 44      female      Menores Preços Dudu Rocha   \n",
       "2097  344            >44      female      Menores Preços Dudu Rocha   \n",
       "2099  344            <25      female      Menores Preços Dudu Rocha   \n",
       "\n",
       "      audience_percentage                                product_package  \\\n",
       "1            1.178306e-01                                      com.zzkko   \n",
       "5            5.360541e-01                                      com.zzkko   \n",
       "9            1.774251e-01                                      com.zzkko   \n",
       "12           1.000000e-01                                  com.shopee.br   \n",
       "13           7.000000e-02                                  com.shopee.br   \n",
       "...                   ...                                            ...   \n",
       "2078         1.686198e-01                com.DramaProductions.Einkaufen5   \n",
       "2082         8.230389e-01                com.DramaProductions.Einkaufen5   \n",
       "2095         6.076479e-03  com.influesolutions.influeassistant.dudurocha   \n",
       "2097         2.870989e-03  com.influesolutions.influeassistant.dudurocha   \n",
       "2099         2.160000e-07  com.influesolutions.influeassistant.dudurocha   \n",
       "\n",
       "      total_active_users  active_users              sub_genre  \n",
       "1               19157963       2257395  E-Commerce (Retailer)  \n",
       "5               19157963      10269704  E-Commerce (Retailer)  \n",
       "9               19157963       3399103  E-Commerce (Retailer)  \n",
       "12              44589200       4458920       E-Commerce (C2C)  \n",
       "13              44589200       3121244       E-Commerce (C2C)  \n",
       "...                  ...           ...                    ...  \n",
       "2078               13254          2235         Other Shopping  \n",
       "2082               13254         10909         Other Shopping  \n",
       "2095                3166            19       E-Commerce (B2C)  \n",
       "2097                3166             9       E-Commerce (B2C)  \n",
       "2099                3166             0       E-Commerce (B2C)  \n",
       "\n",
       "[525 rows x 9 columns]"
      ]
     },
     "execution_count": 27,
     "metadata": {},
     "output_type": "execute_result"
    }
   ],
   "source": [
    "women_age_df"
   ]
  },
  {
   "cell_type": "code",
   "execution_count": 27,
   "id": "31b6c264",
   "metadata": {},
   "outputs": [],
   "source": [
    "women_age_count = women_age_df.groupby(\"age_code\")[\"active_users\"].sum()"
   ]
  },
  {
   "cell_type": "code",
   "execution_count": 28,
   "id": "9e5c13cf",
   "metadata": {},
   "outputs": [
    {
     "data": {
      "text/plain": [
       "age_code\n",
       "<25               18074583\n",
       ">44               32619499\n",
       "entre 25 e 44    109834918\n",
       "Name: active_users, dtype: int64"
      ]
     },
     "execution_count": 28,
     "metadata": {},
     "output_type": "execute_result"
    }
   ],
   "source": [
    "women_age_count"
   ]
  },
  {
   "cell_type": "code",
   "execution_count": 29,
   "id": "fa46f5c9",
   "metadata": {},
   "outputs": [
    {
     "data": {
      "text/plain": [
       "Text(0, 0.5, '')"
      ]
     },
     "execution_count": 29,
     "metadata": {},
     "output_type": "execute_result"
    },
    {
     "data": {
      "image/png": "[encoded data removed]",
      "text/plain": [
       "<Figure size 432x288 with 1 Axes>"
      ]
     },
     "metadata": {},
     "output_type": "display_data"
    }
   ],
   "source": [
    "women_age_count.plot.pie(autopct='%.1f%%',)\n",
    "plt.title(\"Idade dos usuarios mulheres\")\n",
    "plt.ylabel(\"\") # remove o eixo y"
   ]
  },
  {
   "cell_type": "code",
   "execution_count": 30,
   "id": "3368e24c",
   "metadata": {},
   "outputs": [],
   "source": [
    "#Existe uma pequena diferenca de de idade quando dividimos apenas entre as mulheres mas a idade entre 25 e 44\n",
    "# continua sendo a mais predominante"
   ]
  },
  {
   "cell_type": "code",
   "execution_count": 31,
   "id": "1679b2fe",
   "metadata": {},
   "outputs": [],
   "source": [
    "# Em relacao aos homens \n",
    "men_age_df = df.query(\"gender_code == 'male' and age_code !='all'\")"
   ]
  },
  {
   "cell_type": "code",
   "execution_count": 32,
   "id": "cb715f64",
   "metadata": {},
   "outputs": [],
   "source": [
    "men_age_count = men_age_df.groupby(\"age_code\")[\"active_users\"].sum()"
   ]
  },
  {
   "cell_type": "code",
   "execution_count": 33,
   "id": "7f34545f",
   "metadata": {},
   "outputs": [
    {
     "data": {
      "text/plain": [
       "age_code\n",
       "<25              18644266\n",
       ">44              30231732\n",
       "entre 25 e 44    84807701\n",
       "Name: active_users, dtype: int64"
      ]
     },
     "execution_count": 33,
     "metadata": {},
     "output_type": "execute_result"
    }
   ],
   "source": [
    "men_age_count"
   ]
  },
  {
   "cell_type": "code",
   "execution_count": 34,
   "id": "24f3bdda",
   "metadata": {},
   "outputs": [
    {
     "data": {
      "text/plain": [
       "Text(0, 0.5, '')"
      ]
     },
     "execution_count": 34,
     "metadata": {},
     "output_type": "execute_result"
    },
    {
     "data": {
      "image/png": "[encoded data removed]",
      "text/plain": [
       "<Figure size 432x288 with 1 Axes>"
      ]
     },
     "metadata": {},
     "output_type": "display_data"
    }
   ],
   "source": [
    "men_age_count.plot.pie(autopct='%.1f%%',)\n",
    "plt.title(\"Idade dos usuarios homens\")\n",
    "plt.ylabel(\"\") # remove o eixo y"
   ]
  },
  {
   "cell_type": "code",
   "execution_count": 35,
   "id": "1f9aac26",
   "metadata": {},
   "outputs": [],
   "source": [
    "women_df.to_csv('women.csv')"
   ]
  },
  {
   "cell_type": "code",
   "execution_count": 36,
   "id": "e19a6d3e",
   "metadata": {},
   "outputs": [],
   "source": [
    "men_df.to_csv('men.csv')"
   ]
  },
  {
   "cell_type": "code",
   "execution_count": 37,
   "id": "176ceb5f",
   "metadata": {},
   "outputs": [],
   "source": [
    "# Correlacao entre sub genero; genero; e age code"
   ]
  },
  {
   "cell_type": "code",
   "execution_count": 39,
   "id": "b5e307a8",
   "metadata": {},
   "outputs": [
    {
     "name": "stdout",
     "output_type": "stream",
     "text": [
      "<class 'pandas.core.frame.DataFrame'>\n",
      "RangeIndex: 2100 entries, 0 to 2099\n",
      "Data columns (total 9 columns):\n",
      " #   Column               Non-Null Count  Dtype  \n",
      "---  ------               --------------  -----  \n",
      " 0   rank                 2100 non-null   object \n",
      " 1   age_code             2100 non-null   object \n",
      " 2   gender_code          2100 non-null   object \n",
      " 3   product_name         2100 non-null   object \n",
      " 4   audience_percentage  2100 non-null   float64\n",
      " 5   product_package      2100 non-null   object \n",
      " 6   total_active_users   2100 non-null   int64  \n",
      " 7   active_users         2100 non-null   int64  \n",
      " 8   sub_genre            2100 non-null   object \n",
      "dtypes: float64(1), int64(2), object(6)\n",
      "memory usage: 147.8+ KB\n"
     ]
    }
   ],
   "source": [
    "df.info()"
   ]
  },
  {
   "cell_type": "code",
   "execution_count": 41,
   "id": "80baa309",
   "metadata": {},
   "outputs": [],
   "source": [
    "# Convertendo colunas categóricas para códigos numéricos\n",
    "df['sub_genre'] = df['sub_genre'].astype('category').cat.codes\n",
    "df['gender_code'] = df['gender_code'].astype('category').cat.codes\n",
    "df['age_code'] = df['age_code'].astype('category').cat.codes\n"
   ]
  },
  {
   "cell_type": "code",
   "execution_count": 42,
   "id": "d8cc21b9",
   "metadata": {},
   "outputs": [
    {
     "data": {
      "image/png": "[encoded data removed]",
      "text/plain": [
       "<Figure size 720x576 with 2 Axes>"
      ]
     },
     "metadata": {
      "needs_background": "light"
     },
     "output_type": "display_data"
    }
   ],
   "source": [
    "# Calculando a matriz de correlação\n",
    "corr_matrix = df[['sub_genre', 'gender_code', 'age_code', 'audience_percentage']].corr()\n",
    "\n",
    "# Visualizando a matriz de correlação\n",
    "plt.figure(figsize=(10, 8))\n",
    "sns.heatmap(corr_matrix, annot=True, cmap='coolwarm')\n",
    "plt.show()\n"
   ]
  },
  {
   "cell_type": "code",
   "execution_count": 43,
   "id": "b576887f",
   "metadata": {},
   "outputs": [
    {
     "data": {
      "image/png": "[encoded data removed]",
      "text/plain": [
       "<Figure size 599.75x540 with 12 Axes>"
      ]
     },
     "metadata": {
      "needs_background": "light"
     },
     "output_type": "display_data"
    }
   ],
   "source": [
    "# Gráficos de dispersão\n",
    "sns.pairplot(df, hue='sub_genre', vars=['gender_code', 'age_code', 'audience_percentage'])\n",
    "plt.show()"
   ]
  },
  {
   "cell_type": "code",
   "execution_count": null,
   "id": "08bbbd5c",
   "metadata": {},
   "outputs": [],
   "source": []
  },
  {
   "cell_type": "code",
   "execution_count": null,
   "id": "08922abf",
   "metadata": {},
   "outputs": [],
   "source": []
  },
  {
   "cell_type": "code",
   "execution_count": null,
   "id": "66c67759",
   "metadata": {},
   "outputs": [],
   "source": []
  },
  {
   "cell_type": "code",
   "execution_count": null,
   "id": "d0af2625",
   "metadata": {},
   "outputs": [],
   "source": []
  },
  {
   "cell_type": "code",
   "execution_count": null,
   "id": "907a302b",
   "metadata": {},
   "outputs": [],
   "source": []
  },
  {
   "cell_type": "code",
   "execution_count": null,
   "id": "b4718a91",
   "metadata": {},
   "outputs": [],
   "source": []
  }
 ],
 "metadata": {
  "kernelspec": {
   "display_name": "Python 3",
   "language": "python",
   "name": "python3"
  },
  "language_info": {
   "codemirror_mode": {
    "name": "ipython",
    "version": 3
   },
   "file_extension": ".py",
   "mimetype": "text/x-python",
   "name": "python",
   "nbconvert_exporter": "python",
   "pygments_lexer": "ipython3",
   "version": "3.8.8"
  }
 },
 "nbformat": 4,
 "nbformat_minor": 5
}
